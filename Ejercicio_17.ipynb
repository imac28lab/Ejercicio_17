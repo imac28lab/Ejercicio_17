{
 "cells": [
  {
   "cell_type": "code",
   "execution_count": 2,
   "id": "696429bc-b274-452a-a024-5b12c0e7fe07",
   "metadata": {},
   "outputs": [
    {
     "name": "stdout",
     "output_type": "stream",
     "text": [
      "Listo\n"
     ]
    }
   ],
   "source": [
    "from scipy.stats import poisson \n",
    "print(\"Listo\")"
   ]
  },
  {
   "cell_type": "markdown",
   "id": "52a83fdd-f540-4e19-b3a0-b9fb92111c9b",
   "metadata": {},
   "source": [
    "## Ejercicio 17\n",
    "Abel Pérez tiene como pasatiempo armar rompecabezas. Puede pasar horas escuchando música mientras coloca piezas. El rompecabezas que actualmente arma es de 5000 piezas, y en un día coloca en promedio 100 piezas.    "
   ]
  },
  {
   "cell_type": "markdown",
   "id": "c3c04388-197a-4e49-a405-0007dbdcb90b",
   "metadata": {},
   "source": [
    "a) Determina la probabilidad de que en un día coloque entre 100 y 110 piezas, inclusive."
   ]
  },
  {
   "cell_type": "markdown",
   "id": "ac70597a-8966-4070-bb4a-721ebb831a58",
   "metadata": {},
   "source": [
    "- Calcularemos las probabilidades del grupo de valores 100, 101, 102, 103, 104, 105, 106, 107, 108, 109, 110\n",
    "- Su utilizara la formula de distribución de poisson\n",
    "$$\n",
    "\\begin{align}\n",
    "    P(X &= x )=\\frac{e^{-\\lambda}   \\lambda^{x}}{x!}\\\\\n",
    "\\end{align}\n",
    "$$\n",
    "\n",
    "- Remplazamos los valores y lo haremos con cada un de los valores\n",
    "\n",
    "$$\n",
    "\\begin{align}\n",
    "    P(X &= 100 )=\\frac{e^{-100}  * 100^{100}}{100!}\\\\\n",
    "\\end{align}\n",
    "$$\n",
    "$$\n",
    "\\begin{align}\n",
    "    P(X &= 101 )=\\frac{e^{-100}  * 100^{101}}{101!}\\\\\n",
    "\\end{align}\n",
    "$$\n",
    "$$\n",
    "\\begin{align}\n",
    "    P(X &= 102 )=\\frac{e^{-100}  * 100^{102}}{102!}\\\\\n",
    "\\end{align}\n",
    "$$\n",
    "$$\n",
    "\\begin{align}\n",
    "    P(X &= 103 )=\\frac{e^{-100}  * 100^{103}}{103!}\\\\\n",
    "\\end{align}\n",
    "$$\n",
    "$$\n",
    "\\begin{align}\n",
    "    P(X &= 104 )=\\frac{e^{-100}  * 100^{104}}{104!}\\\\\n",
    "\\end{align}\n",
    "$$\n",
    "$$\n",
    "\\begin{align}\n",
    "    P(X &= 105 )=\\frac{e^{-100}  * 100^{105}}{105!}\\\\\n",
    "\\end{align}\n",
    "$$\n",
    "$$\n",
    "\\begin{align}\n",
    "    P(X &= 106 )=\\frac{e^{-100}  * 100^{106}}{106!}\\\\\n",
    "\\end{align}\n",
    "$$\n",
    "$$\n",
    "\\begin{align}\n",
    "    P(X &= 107 )=\\frac{e^{-100}  * 100^{107}}{107!}\\\\\n",
    "\\end{align}\n",
    "$$\n",
    "$$\n",
    "\\begin{align}\n",
    "    P(X &= 108 )=\\frac{e^{-100}  * 100^{108}}{108!}\\\\\n",
    "\\end{align}\n",
    "$$\n",
    "$$\n",
    "\\begin{align}\n",
    "    P(X &= 109 )=\\frac{e^{-100}  * 100^{109}}{109!}\\\\\n",
    "\\end{align}\n",
    "$$\n",
    "$$\n",
    "\\begin{align}\n",
    "    P(X &= 110 )=\\frac{e^{-100}  * 100^{110}}{110!}\\\\\n",
    "\\end{align}\n",
    "$$\n",
    "- Sumamos los resultadosy obtenemos la probabilidad de que coloque entres 100 y 110 piezas\n",
    "\n",
    "$$\n",
    "\\begin{align}\n",
    "    P(100 \\leq X \\leq 110)= P(X = 100 )+P(X = 101)+P(X = 102)+P(X = 103)+P(X = 104)+P(X = 105)+P(X = 106)+P(X = 107)+P(X = 108)+P(X = 109)+P(X = 110) \\\\\n",
    "\\end{align}\n",
    "$$\n",
    "$$\n",
    "\\begin{align}\n",
    "    P(100 \\leq X \\leq 110)=  0.039861 + 0.039466 + 0.038692 + 0.037565 + 0.036121 + 0.034401 + 0.032453 + 0.030330 + 0.028084 + 0.025765 + 0.023426\\\\\n",
    "\\end{align}\n",
    "$$\n",
    "\n",
    "- La probabilidad es de:\n",
    "\n",
    "$$\n",
    "\\begin{align}\n",
    "    P(X &= x )= 0.36616144983690785\\\\\n",
    "\\end{align}\n",
    "$$"
   ]
  },
  {
   "cell_type": "code",
   "execution_count": 5,
   "id": "4fe0baa4-d3cc-4dda-80d0-0ae324b84d6b",
   "metadata": {},
   "outputs": [
    {
     "name": "stdout",
     "output_type": "stream",
     "text": [
      "0.36616144983690785\n"
     ]
    }
   ],
   "source": [
    "# Implementacion de la solucion del inciso a) del ejercicio 17\n",
    "# P(100 <= X <= 110)\n",
    "\n",
    "lamda_value = 100\n",
    "k = list(range(100, 111))\n",
    "y = poisson.pmf(k, lamda_value)\n",
    "result = sum(y)\n",
    "print(result)\n"
   ]
  },
  {
   "cell_type": "markdown",
   "id": "829c073a-cc88-492b-8aa5-f21e308b00c8",
   "metadata": {},
   "source": [
    "b) Calcula la probabilidad de que en un día en que esté muy inspirado coloque 150 piezas."
   ]
  },
  {
   "cell_type": "markdown",
   "id": "bfd28f78-cac2-462f-be58-1c444c90e0cc",
   "metadata": {},
   "source": [
    "- En este caso lamda es igual a 100, ya que es menor cantidad de piezas que coloca al dia\n",
    "- Entonces k va a ser igual a 150 ya que es nuestra probabilidad de ocurrencias\n",
    "\n",
    "$$\n",
    "\\begin{align}\n",
    "    \\lambda &= 100\\\\\n",
    "     x &= 150 \\\\\n",
    "\\end{align}\n",
    "$$\n",
    "\n",
    "- Se remplazan los valores en la formula de la distribuccion de poisson\n",
    "\n",
    "$$\n",
    "\\begin{align}\n",
    "    P(X &= x )=\\frac{e^{-100}  * 100^{150}}{150!}\\\\\n",
    "\\end{align}\n",
    "$$\n",
    "\n",
    "- La probabilidad de que esté muy inspirado coloque 150 piezas es de:\n",
    "\n",
    "$$\n",
    "\\begin{align}\n",
    "    P(X &= x )= 6.511160468786359e-07\\\\\n",
    "\\end{align}\n",
    "$$\n"
   ]
  },
  {
   "cell_type": "code",
   "execution_count": 24,
   "id": "6e0ccf2a-527b-45f5-a431-ed237e6be117",
   "metadata": {},
   "outputs": [
    {
     "name": "stdout",
     "output_type": "stream",
     "text": [
      "6.511160468786359e-07\n"
     ]
    }
   ],
   "source": [
    "# Implementacion de la solucion del inciso b) del ejercicio 17\n",
    "# P(X = 150)\n",
    "\n",
    "lamda_value = 100\n",
    "k = 150\n",
    "y = poisson.pmf(k, lamda_value)\n",
    "print(y)"
   ]
  },
  {
   "cell_type": "markdown",
   "id": "ecc295cd-2004-4736-bbc5-427b3d39ba4e",
   "metadata": {},
   "source": [
    "c) En un día cualquiera, Abel no está inspirado. ¿Cuál es la probabilidad de que coloque 45\n",
    "piezas o menos?"
   ]
  },
  {
   "cell_type": "markdown",
   "id": "0fd64e18-26c0-424b-b62a-e39516e48cf6",
   "metadata": {},
   "source": [
    "- En este caso lamda es igual a 100, ya que es menor cantidad de piezas que coloca al dia\n",
    "- Entonces k va a ser igual a 46 ya que es nuestra probabilidad de ocurrencias \n",
    "\n",
    "$$\n",
    "\\begin{align}\n",
    "    \\lambda &= 100\\\\\n",
    "     x &= 45 \\\\\n",
    "\\end{align}\n",
    "$$\n",
    "\n",
    "- Se remplazan los valores en la formula de la distribuccion de poisson\n",
    "\n",
    "$$\n",
    "\\begin{align}\n",
    "    P(X &= x )=\\frac{e^{-100}  * 100^{46}}{46!}\\\\\n",
    "\\end{align}\n",
    "$$\n",
    "\n",
    "- La probabilidad de que coloque 45 piezas o menos es de:\n",
    "\n",
    "$$\n",
    "\\begin{align}\n",
    "    P(X &= x )= 5.576212818454729e-10\\\\\n",
    "\\end{align}\n",
    "$$"
   ]
  },
  {
   "cell_type": "code",
   "execution_count": 26,
   "id": "c65d1cff-8e80-4f7b-9ecc-b8ce45395cd9",
   "metadata": {},
   "outputs": [
    {
     "name": "stdout",
     "output_type": "stream",
     "text": [
      "5.576212818454729e-10\n"
     ]
    }
   ],
   "source": [
    "# Implementacion de la solucion del inciso c) del ejercicio 17\n",
    "# P(X <= 45)\n",
    "\n",
    "lamda_value = 100\n",
    "k = list(range(46))\n",
    "y = poisson.pmf(k, lamda_value)\n",
    "result = sum(y)\n",
    "print(result)"
   ]
  }
 ],
 "metadata": {
  "kernelspec": {
   "display_name": "Python 3 (ipykernel)",
   "language": "python",
   "name": "python3"
  },
  "language_info": {
   "codemirror_mode": {
    "name": "ipython",
    "version": 3
   },
   "file_extension": ".py",
   "mimetype": "text/x-python",
   "name": "python",
   "nbconvert_exporter": "python",
   "pygments_lexer": "ipython3",
   "version": "3.11.4"
  }
 },
 "nbformat": 4,
 "nbformat_minor": 5
}
